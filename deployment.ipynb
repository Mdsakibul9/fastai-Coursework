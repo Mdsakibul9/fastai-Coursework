{
 "cells": [
  {
   "cell_type": "code",
   "execution_count": 1,
   "id": "1f26f794-c7ac-4acf-957d-d35b536b0b51",
   "metadata": {},
   "outputs": [
    {
     "name": "stderr",
     "output_type": "stream",
     "text": [
      "<>:3: SyntaxWarning: invalid escape sequence '\\d'\n",
      "<>:3: SyntaxWarning: invalid escape sequence '\\d'\n",
      "C:\\Users\\user\\AppData\\Local\\Temp\\ipykernel_83324\\645415734.py:3: SyntaxWarning: invalid escape sequence '\\d'\n",
      "  dls = ImageDataLoaders.from_name_re(path, get_image_files(path/'images'), pat='(.+)_\\d+.jpg', item_tfms=Resize(460), batch_tfms=aug_transforms(size=224, min_scale=0.75))\n",
      "Downloading: \"https://download.pytorch.org/models/resnet50-11ad3fa6.pth\" to C:\\Users\\user/.cache\\torch\\hub\\checkpoints\\resnet50-11ad3fa6.pth\n",
      "100%|██████████████████████████████████████████████████████████████████████████████| 97.8M/97.8M [02:49<00:00, 607kB/s]\n"
     ]
    },
    {
     "data": {
      "text/html": [
       "\n",
       "<style>\n",
       "    /* Turns off some styling */\n",
       "    progress {\n",
       "        /* gets rid of default border in Firefox and Opera. */\n",
       "        border: none;\n",
       "        /* Needs to be in here for Safari polyfill so background images work as expected. */\n",
       "        background-size: auto;\n",
       "    }\n",
       "    progress:not([value]), progress:not([value])::-webkit-progress-bar {\n",
       "        background: repeating-linear-gradient(45deg, #7e7e7e, #7e7e7e 10px, #5c5c5c 10px, #5c5c5c 20px);\n",
       "    }\n",
       "    .progress-bar-interrupted, .progress-bar-interrupted::-webkit-progress-bar {\n",
       "        background: #F44336;\n",
       "    }\n",
       "</style>\n"
      ],
      "text/plain": [
       "<IPython.core.display.HTML object>"
      ]
     },
     "metadata": {},
     "output_type": "display_data"
    },
    {
     "data": {
      "text/html": [
       "<table border=\"1\" class=\"dataframe\">\n",
       "  <thead>\n",
       "    <tr style=\"text-align: left;\">\n",
       "      <th>epoch</th>\n",
       "      <th>train_loss</th>\n",
       "      <th>valid_loss</th>\n",
       "      <th>accuracy</th>\n",
       "      <th>time</th>\n",
       "    </tr>\n",
       "  </thead>\n",
       "  <tbody>\n",
       "    <tr>\n",
       "      <td>0</td>\n",
       "      <td>1.387088</td>\n",
       "      <td>0.386131</td>\n",
       "      <td>0.876861</td>\n",
       "      <td>15:05</td>\n",
       "    </tr>\n",
       "  </tbody>\n",
       "</table>"
      ],
      "text/plain": [
       "<IPython.core.display.HTML object>"
      ]
     },
     "metadata": {},
     "output_type": "display_data"
    },
    {
     "data": {
      "text/html": [
       "\n",
       "<style>\n",
       "    /* Turns off some styling */\n",
       "    progress {\n",
       "        /* gets rid of default border in Firefox and Opera. */\n",
       "        border: none;\n",
       "        /* Needs to be in here for Safari polyfill so background images work as expected. */\n",
       "        background-size: auto;\n",
       "    }\n",
       "    progress:not([value]), progress:not([value])::-webkit-progress-bar {\n",
       "        background: repeating-linear-gradient(45deg, #7e7e7e, #7e7e7e 10px, #5c5c5c 10px, #5c5c5c 20px);\n",
       "    }\n",
       "    .progress-bar-interrupted, .progress-bar-interrupted::-webkit-progress-bar {\n",
       "        background: #F44336;\n",
       "    }\n",
       "</style>\n"
      ],
      "text/plain": [
       "<IPython.core.display.HTML object>"
      ]
     },
     "metadata": {},
     "output_type": "display_data"
    },
    {
     "data": {
      "text/html": [
       "<table border=\"1\" class=\"dataframe\">\n",
       "  <thead>\n",
       "    <tr style=\"text-align: left;\">\n",
       "      <th>epoch</th>\n",
       "      <th>train_loss</th>\n",
       "      <th>valid_loss</th>\n",
       "      <th>accuracy</th>\n",
       "      <th>time</th>\n",
       "    </tr>\n",
       "  </thead>\n",
       "  <tbody>\n",
       "    <tr>\n",
       "      <td>0</td>\n",
       "      <td>0.447586</td>\n",
       "      <td>0.272138</td>\n",
       "      <td>0.916779</td>\n",
       "      <td>19:16</td>\n",
       "    </tr>\n",
       "  </tbody>\n",
       "</table>"
      ],
      "text/plain": [
       "<IPython.core.display.HTML object>"
      ]
     },
     "metadata": {},
     "output_type": "display_data"
    }
   ],
   "source": [
    "from fastai.vision.all import *\n",
    "path = untar_data(URLs.PETS)\n",
    "dls = ImageDataLoaders.from_name_re(path, get_image_files(path/'images'), pat='(.+)_\\d+.jpg', item_tfms=Resize(460), batch_tfms=aug_transforms(size=224, min_scale=0.75))\n",
    "learn = vision_learner(dls, models.resnet50, metrics=accuracy)\n",
    "learn.fine_tune(1)\n",
    "learn.path = Path('.')\n",
    "learn.export()"
   ]
  },
  {
   "cell_type": "code",
   "execution_count": 2,
   "id": "f0ba0a60-7f43-4a86-91ad-8ed4074a585c",
   "metadata": {},
   "outputs": [
    {
     "name": "stdout",
     "output_type": "stream",
     "text": [
      "Collecting gradio\n",
      "  Downloading gradio-4.44.0-py3-none-any.whl.metadata (15 kB)\n",
      "Collecting aiofiles<24.0,>=22.0 (from gradio)\n",
      "  Downloading aiofiles-23.2.1-py3-none-any.whl.metadata (9.7 kB)\n",
      "Requirement already satisfied: anyio<5.0,>=3.0 in c:\\users\\user\\appdata\\local\\programs\\python\\python312\\lib\\site-packages (from gradio) (4.4.0)\n",
      "Collecting fastapi<1.0 (from gradio)\n",
      "  Downloading fastapi-0.115.0-py3-none-any.whl.metadata (27 kB)\n",
      "Collecting ffmpy (from gradio)\n",
      "  Downloading ffmpy-0.4.0-py3-none-any.whl.metadata (2.9 kB)\n",
      "Collecting gradio-client==1.3.0 (from gradio)\n",
      "  Downloading gradio_client-1.3.0-py3-none-any.whl.metadata (7.1 kB)\n",
      "Requirement already satisfied: httpx>=0.24.1 in c:\\users\\user\\appdata\\local\\programs\\python\\python312\\lib\\site-packages (from gradio) (0.27.2)\n",
      "Requirement already satisfied: huggingface-hub>=0.19.3 in c:\\users\\user\\appdata\\local\\programs\\python\\python312\\lib\\site-packages (from gradio) (0.24.7)\n",
      "Collecting importlib-resources<7.0,>=1.3 (from gradio)\n",
      "  Downloading importlib_resources-6.4.5-py3-none-any.whl.metadata (4.0 kB)\n",
      "Requirement already satisfied: jinja2<4.0 in c:\\users\\user\\appdata\\local\\programs\\python\\python312\\lib\\site-packages (from gradio) (3.1.4)\n",
      "Requirement already satisfied: markupsafe~=2.0 in c:\\users\\user\\appdata\\local\\programs\\python\\python312\\lib\\site-packages (from gradio) (2.1.5)\n",
      "Requirement already satisfied: matplotlib~=3.0 in c:\\users\\user\\appdata\\local\\programs\\python\\python312\\lib\\site-packages (from gradio) (3.9.2)\n",
      "Requirement already satisfied: numpy<3.0,>=1.0 in c:\\users\\user\\appdata\\local\\programs\\python\\python312\\lib\\site-packages (from gradio) (1.26.4)\n",
      "Collecting orjson~=3.0 (from gradio)\n",
      "  Downloading orjson-3.10.7-cp312-none-win_amd64.whl.metadata (51 kB)\n",
      "Requirement already satisfied: packaging in c:\\users\\user\\appdata\\local\\programs\\python\\python312\\lib\\site-packages (from gradio) (24.1)\n",
      "Requirement already satisfied: pandas<3.0,>=1.0 in c:\\users\\user\\appdata\\local\\programs\\python\\python312\\lib\\site-packages (from gradio) (2.2.2)\n",
      "Requirement already satisfied: pillow<11.0,>=8.0 in c:\\users\\user\\appdata\\local\\programs\\python\\python312\\lib\\site-packages (from gradio) (10.4.0)\n",
      "Requirement already satisfied: pydantic>=2.0 in c:\\users\\user\\appdata\\local\\programs\\python\\python312\\lib\\site-packages (from gradio) (2.9.0)\n",
      "Collecting pydub (from gradio)\n",
      "  Downloading pydub-0.25.1-py2.py3-none-any.whl.metadata (1.4 kB)\n",
      "Collecting python-multipart>=0.0.9 (from gradio)\n",
      "  Downloading python_multipart-0.0.10-py3-none-any.whl.metadata (1.9 kB)\n",
      "Requirement already satisfied: pyyaml<7.0,>=5.0 in c:\\users\\user\\appdata\\local\\programs\\python\\python312\\lib\\site-packages (from gradio) (6.0.2)\n",
      "Collecting ruff>=0.2.2 (from gradio)\n",
      "  Downloading ruff-0.6.7-py3-none-win_amd64.whl.metadata (25 kB)\n",
      "Collecting semantic-version~=2.0 (from gradio)\n",
      "  Downloading semantic_version-2.10.0-py2.py3-none-any.whl.metadata (9.7 kB)\n",
      "Collecting tomlkit==0.12.0 (from gradio)\n",
      "  Downloading tomlkit-0.12.0-py3-none-any.whl.metadata (2.7 kB)\n",
      "Requirement already satisfied: typer<1.0,>=0.12 in c:\\users\\user\\appdata\\local\\programs\\python\\python312\\lib\\site-packages (from gradio) (0.12.5)\n",
      "Requirement already satisfied: typing-extensions~=4.0 in c:\\users\\user\\appdata\\local\\programs\\python\\python312\\lib\\site-packages (from gradio) (4.12.2)\n",
      "Requirement already satisfied: urllib3~=2.0 in c:\\users\\user\\appdata\\local\\programs\\python\\python312\\lib\\site-packages (from gradio) (2.2.2)\n",
      "Collecting uvicorn>=0.14.0 (from gradio)\n",
      "  Downloading uvicorn-0.30.6-py3-none-any.whl.metadata (6.6 kB)\n",
      "Requirement already satisfied: fsspec in c:\\users\\user\\appdata\\local\\programs\\python\\python312\\lib\\site-packages (from gradio-client==1.3.0->gradio) (2024.6.1)\n",
      "Collecting websockets<13.0,>=10.0 (from gradio-client==1.3.0->gradio)\n",
      "  Downloading websockets-12.0-cp312-cp312-win_amd64.whl.metadata (6.8 kB)\n",
      "Requirement already satisfied: idna>=2.8 in c:\\users\\user\\appdata\\local\\programs\\python\\python312\\lib\\site-packages (from anyio<5.0,>=3.0->gradio) (3.8)\n",
      "Requirement already satisfied: sniffio>=1.1 in c:\\users\\user\\appdata\\local\\programs\\python\\python312\\lib\\site-packages (from anyio<5.0,>=3.0->gradio) (1.3.1)\n",
      "Collecting starlette<0.39.0,>=0.37.2 (from fastapi<1.0->gradio)\n",
      "  Downloading starlette-0.38.6-py3-none-any.whl.metadata (6.0 kB)\n",
      "Requirement already satisfied: certifi in c:\\users\\user\\appdata\\local\\programs\\python\\python312\\lib\\site-packages (from httpx>=0.24.1->gradio) (2024.8.30)\n",
      "Requirement already satisfied: httpcore==1.* in c:\\users\\user\\appdata\\local\\programs\\python\\python312\\lib\\site-packages (from httpx>=0.24.1->gradio) (1.0.5)\n",
      "Requirement already satisfied: h11<0.15,>=0.13 in c:\\users\\user\\appdata\\local\\programs\\python\\python312\\lib\\site-packages (from httpcore==1.*->httpx>=0.24.1->gradio) (0.14.0)\n",
      "Requirement already satisfied: filelock in c:\\users\\user\\appdata\\local\\programs\\python\\python312\\lib\\site-packages (from huggingface-hub>=0.19.3->gradio) (3.16.0)\n",
      "Requirement already satisfied: requests in c:\\users\\user\\appdata\\local\\programs\\python\\python312\\lib\\site-packages (from huggingface-hub>=0.19.3->gradio) (2.32.3)\n",
      "Requirement already satisfied: tqdm>=4.42.1 in c:\\users\\user\\appdata\\local\\programs\\python\\python312\\lib\\site-packages (from huggingface-hub>=0.19.3->gradio) (4.66.5)\n",
      "Requirement already satisfied: contourpy>=1.0.1 in c:\\users\\user\\appdata\\local\\programs\\python\\python312\\lib\\site-packages (from matplotlib~=3.0->gradio) (1.3.0)\n",
      "Requirement already satisfied: cycler>=0.10 in c:\\users\\user\\appdata\\local\\programs\\python\\python312\\lib\\site-packages (from matplotlib~=3.0->gradio) (0.12.1)\n",
      "Requirement already satisfied: fonttools>=4.22.0 in c:\\users\\user\\appdata\\local\\programs\\python\\python312\\lib\\site-packages (from matplotlib~=3.0->gradio) (4.53.1)\n",
      "Requirement already satisfied: kiwisolver>=1.3.1 in c:\\users\\user\\appdata\\local\\programs\\python\\python312\\lib\\site-packages (from matplotlib~=3.0->gradio) (1.4.7)\n",
      "Requirement already satisfied: pyparsing>=2.3.1 in c:\\users\\user\\appdata\\local\\programs\\python\\python312\\lib\\site-packages (from matplotlib~=3.0->gradio) (3.1.4)\n",
      "Requirement already satisfied: python-dateutil>=2.7 in c:\\users\\user\\appdata\\local\\programs\\python\\python312\\lib\\site-packages (from matplotlib~=3.0->gradio) (2.9.0.post0)\n",
      "Requirement already satisfied: pytz>=2020.1 in c:\\users\\user\\appdata\\local\\programs\\python\\python312\\lib\\site-packages (from pandas<3.0,>=1.0->gradio) (2024.1)\n",
      "Requirement already satisfied: tzdata>=2022.7 in c:\\users\\user\\appdata\\local\\programs\\python\\python312\\lib\\site-packages (from pandas<3.0,>=1.0->gradio) (2024.1)\n",
      "Requirement already satisfied: annotated-types>=0.4.0 in c:\\users\\user\\appdata\\local\\programs\\python\\python312\\lib\\site-packages (from pydantic>=2.0->gradio) (0.7.0)\n",
      "Requirement already satisfied: pydantic-core==2.23.2 in c:\\users\\user\\appdata\\local\\programs\\python\\python312\\lib\\site-packages (from pydantic>=2.0->gradio) (2.23.2)\n",
      "Requirement already satisfied: click>=8.0.0 in c:\\users\\user\\appdata\\local\\programs\\python\\python312\\lib\\site-packages (from typer<1.0,>=0.12->gradio) (8.1.7)\n",
      "Requirement already satisfied: shellingham>=1.3.0 in c:\\users\\user\\appdata\\local\\programs\\python\\python312\\lib\\site-packages (from typer<1.0,>=0.12->gradio) (1.5.4)\n",
      "Requirement already satisfied: rich>=10.11.0 in c:\\users\\user\\appdata\\local\\programs\\python\\python312\\lib\\site-packages (from typer<1.0,>=0.12->gradio) (13.8.0)\n",
      "Requirement already satisfied: colorama in c:\\users\\user\\appdata\\local\\programs\\python\\python312\\lib\\site-packages (from click>=8.0.0->typer<1.0,>=0.12->gradio) (0.4.6)\n",
      "Requirement already satisfied: six>=1.5 in c:\\users\\user\\appdata\\local\\programs\\python\\python312\\lib\\site-packages (from python-dateutil>=2.7->matplotlib~=3.0->gradio) (1.16.0)\n",
      "Requirement already satisfied: markdown-it-py>=2.2.0 in c:\\users\\user\\appdata\\local\\programs\\python\\python312\\lib\\site-packages (from rich>=10.11.0->typer<1.0,>=0.12->gradio) (3.0.0)\n",
      "Requirement already satisfied: pygments<3.0.0,>=2.13.0 in c:\\users\\user\\appdata\\local\\programs\\python\\python312\\lib\\site-packages (from rich>=10.11.0->typer<1.0,>=0.12->gradio) (2.18.0)\n",
      "Requirement already satisfied: charset-normalizer<4,>=2 in c:\\users\\user\\appdata\\local\\programs\\python\\python312\\lib\\site-packages (from requests->huggingface-hub>=0.19.3->gradio) (3.3.2)\n",
      "Requirement already satisfied: mdurl~=0.1 in c:\\users\\user\\appdata\\local\\programs\\python\\python312\\lib\\site-packages (from markdown-it-py>=2.2.0->rich>=10.11.0->typer<1.0,>=0.12->gradio) (0.1.2)\n",
      "Downloading gradio-4.44.0-py3-none-any.whl (18.1 MB)\n",
      "   ---------------------------------------- 0.0/18.1 MB ? eta -:--:--\n",
      "   ---------------------------------------- 0.0/18.1 MB ? eta -:--:--\n",
      "   ---------------------------------------- 0.0/18.1 MB ? eta -:--:--\n",
      "   ---------------------------------------- 0.0/18.1 MB ? eta -:--:--\n",
      "    --------------------------------------- 0.3/18.1 MB ? eta -:--:--\n",
      "    --------------------------------------- 0.3/18.1 MB ? eta -:--:--\n",
      "    --------------------------------------- 0.3/18.1 MB ? eta -:--:--\n",
      "   - -------------------------------------- 0.5/18.1 MB 441.3 kB/s eta 0:00:40\n",
      "   - -------------------------------------- 0.5/18.1 MB 441.3 kB/s eta 0:00:40\n",
      "   - -------------------------------------- 0.5/18.1 MB 441.3 kB/s eta 0:00:40\n",
      "   - -------------------------------------- 0.8/18.1 MB 441.3 kB/s eta 0:00:40\n",
      "   - -------------------------------------- 0.8/18.1 MB 441.3 kB/s eta 0:00:40\n",
      "   -- ------------------------------------- 1.0/18.1 MB 479.2 kB/s eta 0:00:36\n",
      "   -- ------------------------------------- 1.0/18.1 MB 479.2 kB/s eta 0:00:36\n",
      "   -- ------------------------------------- 1.0/18.1 MB 479.2 kB/s eta 0:00:36\n",
      "   -- ------------------------------------- 1.3/18.1 MB 435.8 kB/s eta 0:00:39\n",
      "   -- ------------------------------------- 1.3/18.1 MB 435.8 kB/s eta 0:00:39\n",
      "   -- ------------------------------------- 1.3/18.1 MB 435.8 kB/s eta 0:00:39\n",
      "   --- ------------------------------------ 1.6/18.1 MB 458.5 kB/s eta 0:00:36\n",
      "   --- ------------------------------------ 1.6/18.1 MB 458.5 kB/s eta 0:00:36\n",
      "   --- ------------------------------------ 1.6/18.1 MB 458.5 kB/s eta 0:00:36\n",
      "   ---- ----------------------------------- 1.8/18.1 MB 455.5 kB/s eta 0:00:36\n",
      "   ---- ----------------------------------- 1.8/18.1 MB 455.5 kB/s eta 0:00:36\n",
      "   ---- ----------------------------------- 2.1/18.1 MB 453.4 kB/s eta 0:00:36\n",
      "   ---- ----------------------------------- 2.1/18.1 MB 453.4 kB/s eta 0:00:36\n",
      "   ---- ----------------------------------- 2.1/18.1 MB 453.4 kB/s eta 0:00:36\n",
      "   ----- ---------------------------------- 2.4/18.1 MB 466.0 kB/s eta 0:00:34\n",
      "   ----- ---------------------------------- 2.4/18.1 MB 466.0 kB/s eta 0:00:34\n",
      "   ----- ---------------------------------- 2.6/18.1 MB 476.3 kB/s eta 0:00:33\n",
      "   ----- ---------------------------------- 2.6/18.1 MB 476.3 kB/s eta 0:00:33\n",
      "   ------ --------------------------------- 2.9/18.1 MB 486.3 kB/s eta 0:00:32\n",
      "   ------ --------------------------------- 3.1/18.1 MB 505.6 kB/s eta 0:00:30\n",
      "   ------ --------------------------------- 3.1/18.1 MB 505.6 kB/s eta 0:00:30\n",
      "   ------ --------------------------------- 3.1/18.1 MB 505.6 kB/s eta 0:00:30\n",
      "   ------- -------------------------------- 3.4/18.1 MB 511.0 kB/s eta 0:00:29\n",
      "   ------- -------------------------------- 3.4/18.1 MB 511.0 kB/s eta 0:00:29\n",
      "   -------- ------------------------------- 3.7/18.1 MB 516.8 kB/s eta 0:00:28\n",
      "   -------- ------------------------------- 3.9/18.1 MB 531.4 kB/s eta 0:00:27\n",
      "   --------- ------------------------------ 4.2/18.1 MB 544.7 kB/s eta 0:00:26\n",
      "   --------- ------------------------------ 4.2/18.1 MB 544.7 kB/s eta 0:00:26\n",
      "   --------- ------------------------------ 4.2/18.1 MB 544.7 kB/s eta 0:00:26\n",
      "   --------- ------------------------------ 4.5/18.1 MB 547.8 kB/s eta 0:00:25\n",
      "   --------- ------------------------------ 4.5/18.1 MB 547.8 kB/s eta 0:00:25\n",
      "   ---------- ----------------------------- 4.7/18.1 MB 550.6 kB/s eta 0:00:25\n",
      "   ----------- ---------------------------- 5.0/18.1 MB 561.3 kB/s eta 0:00:24\n",
      "   ----------- ---------------------------- 5.0/18.1 MB 561.3 kB/s eta 0:00:24\n",
      "   ----------- ---------------------------- 5.2/18.1 MB 563.2 kB/s eta 0:00:23\n",
      "   ----------- ---------------------------- 5.2/18.1 MB 563.2 kB/s eta 0:00:23\n",
      "   ------------ --------------------------- 5.5/18.1 MB 572.6 kB/s eta 0:00:22\n",
      "   ------------ --------------------------- 5.5/18.1 MB 572.6 kB/s eta 0:00:22\n",
      "   ------------ --------------------------- 5.8/18.1 MB 573.8 kB/s eta 0:00:22\n",
      "   ------------- -------------------------- 6.0/18.1 MB 582.2 kB/s eta 0:00:21\n",
      "   ------------- -------------------------- 6.0/18.1 MB 582.2 kB/s eta 0:00:21\n",
      "   ------------- -------------------------- 6.3/18.1 MB 582.0 kB/s eta 0:00:21\n",
      "   ------------- -------------------------- 6.3/18.1 MB 582.0 kB/s eta 0:00:21\n",
      "   -------------- ------------------------- 6.6/18.1 MB 582.7 kB/s eta 0:00:20\n",
      "   -------------- ------------------------- 6.6/18.1 MB 582.7 kB/s eta 0:00:20\n",
      "   --------------- ------------------------ 6.8/18.1 MB 589.9 kB/s eta 0:00:20\n",
      "   --------------- ------------------------ 6.8/18.1 MB 589.9 kB/s eta 0:00:20\n",
      "   --------------- ------------------------ 7.1/18.1 MB 590.3 kB/s eta 0:00:19\n",
      "   --------------- ------------------------ 7.1/18.1 MB 590.3 kB/s eta 0:00:19\n",
      "   ---------------- ----------------------- 7.3/18.1 MB 589.8 kB/s eta 0:00:19\n",
      "   ---------------- ----------------------- 7.3/18.1 MB 589.8 kB/s eta 0:00:19\n",
      "   ---------------- ----------------------- 7.6/18.1 MB 590.1 kB/s eta 0:00:18\n",
      "   ---------------- ----------------------- 7.6/18.1 MB 590.1 kB/s eta 0:00:18\n",
      "   ----------------- ---------------------- 7.9/18.1 MB 595.5 kB/s eta 0:00:18\n",
      "   ----------------- ---------------------- 7.9/18.1 MB 595.5 kB/s eta 0:00:18\n",
      "   ----------------- ---------------------- 8.1/18.1 MB 594.9 kB/s eta 0:00:17\n",
      "   ----------------- ---------------------- 8.1/18.1 MB 594.9 kB/s eta 0:00:17\n",
      "   ------------------ --------------------- 8.4/18.1 MB 595.1 kB/s eta 0:00:17\n",
      "   ------------------ --------------------- 8.4/18.1 MB 595.1 kB/s eta 0:00:17\n",
      "   ------------------- -------------------- 8.7/18.1 MB 595.2 kB/s eta 0:00:16\n",
      "   ------------------- -------------------- 8.7/18.1 MB 595.2 kB/s eta 0:00:16\n",
      "   ------------------- -------------------- 8.9/18.1 MB 600.5 kB/s eta 0:00:16\n",
      "   ------------------- -------------------- 8.9/18.1 MB 600.5 kB/s eta 0:00:16\n",
      "   -------------------- ------------------- 9.2/18.1 MB 600.4 kB/s eta 0:00:15\n",
      "   -------------------- ------------------- 9.4/18.1 MB 605.4 kB/s eta 0:00:15\n",
      "   -------------------- ------------------- 9.4/18.1 MB 605.4 kB/s eta 0:00:15\n",
      "   --------------------- ------------------ 9.7/18.1 MB 605.2 kB/s eta 0:00:14\n",
      "   --------------------- ------------------ 9.7/18.1 MB 605.2 kB/s eta 0:00:14\n",
      "   ---------------------- ----------------- 10.0/18.1 MB 609.8 kB/s eta 0:00:14\n",
      "   ---------------------- ----------------- 10.0/18.1 MB 609.8 kB/s eta 0:00:14\n",
      "   ---------------------- ----------------- 10.2/18.1 MB 607.7 kB/s eta 0:00:13\n",
      "   ---------------------- ----------------- 10.2/18.1 MB 607.7 kB/s eta 0:00:13\n",
      "   ---------------------- ----------------- 10.2/18.1 MB 607.7 kB/s eta 0:00:13\n",
      "   ---------------------- ----------------- 10.2/18.1 MB 607.7 kB/s eta 0:00:13\n",
      "   ----------------------- ---------------- 10.5/18.1 MB 592.7 kB/s eta 0:00:13\n",
      "   ----------------------- ---------------- 10.5/18.1 MB 592.7 kB/s eta 0:00:13\n",
      "   ----------------------- ---------------- 10.7/18.1 MB 597.0 kB/s eta 0:00:13\n",
      "   ----------------------- ---------------- 10.7/18.1 MB 597.0 kB/s eta 0:00:13\n",
      "   ------------------------ --------------- 11.0/18.1 MB 597.1 kB/s eta 0:00:12\n",
      "   ------------------------ --------------- 11.3/18.1 MB 601.2 kB/s eta 0:00:12\n",
      "   ------------------------ --------------- 11.3/18.1 MB 601.2 kB/s eta 0:00:12\n",
      "   ------------------------- -------------- 11.5/18.1 MB 601.2 kB/s eta 0:00:11\n",
      "   ------------------------- -------------- 11.5/18.1 MB 601.2 kB/s eta 0:00:11\n",
      "   -------------------------- ------------- 11.8/18.1 MB 601.1 kB/s eta 0:00:11\n",
      "   -------------------------- ------------- 11.8/18.1 MB 601.1 kB/s eta 0:00:11\n",
      "   -------------------------- ------------- 12.1/18.1 MB 604.9 kB/s eta 0:00:10\n",
      "   --------------------------- ------------ 12.3/18.1 MB 608.6 kB/s eta 0:00:10\n",
      "   --------------------------- ------------ 12.3/18.1 MB 608.6 kB/s eta 0:00:10\n",
      "   --------------------------- ------------ 12.3/18.1 MB 608.6 kB/s eta 0:00:10\n",
      "   --------------------------- ------------ 12.6/18.1 MB 608.4 kB/s eta 0:00:10\n",
      "   --------------------------- ------------ 12.6/18.1 MB 608.4 kB/s eta 0:00:10\n",
      "   ---------------------------- ----------- 12.8/18.1 MB 607.8 kB/s eta 0:00:09\n",
      "   ---------------------------- ----------- 12.8/18.1 MB 607.8 kB/s eta 0:00:09\n",
      "   ----------------------------- ---------- 13.1/18.1 MB 607.2 kB/s eta 0:00:09\n",
      "   ----------------------------- ---------- 13.4/18.1 MB 610.5 kB/s eta 0:00:08\n",
      "   ----------------------------- ---------- 13.4/18.1 MB 610.5 kB/s eta 0:00:08\n",
      "   ------------------------------ --------- 13.6/18.1 MB 610.7 kB/s eta 0:00:08\n",
      "   ------------------------------ --------- 13.6/18.1 MB 610.7 kB/s eta 0:00:08\n",
      "   ------------------------------ --------- 13.9/18.1 MB 613.9 kB/s eta 0:00:07\n",
      "   ------------------------------ --------- 13.9/18.1 MB 613.9 kB/s eta 0:00:07\n",
      "   ------------------------------ --------- 13.9/18.1 MB 613.9 kB/s eta 0:00:07\n",
      "   ------------------------------- -------- 14.2/18.1 MB 609.0 kB/s eta 0:00:07\n",
      "   ------------------------------- -------- 14.2/18.1 MB 609.0 kB/s eta 0:00:07\n",
      "   ------------------------------- -------- 14.2/18.1 MB 609.0 kB/s eta 0:00:07\n",
      "   ------------------------------- -------- 14.4/18.1 MB 605.2 kB/s eta 0:00:07\n",
      "   ------------------------------- -------- 14.4/18.1 MB 605.2 kB/s eta 0:00:07\n",
      "   -------------------------------- ------- 14.7/18.1 MB 604.7 kB/s eta 0:00:06\n",
      "   -------------------------------- ------- 14.7/18.1 MB 604.7 kB/s eta 0:00:06\n",
      "   --------------------------------- ------ 14.9/18.1 MB 604.2 kB/s eta 0:00:06\n",
      "   --------------------------------- ------ 14.9/18.1 MB 604.2 kB/s eta 0:00:06\n",
      "   --------------------------------- ------ 15.2/18.1 MB 607.2 kB/s eta 0:00:05\n",
      "   --------------------------------- ------ 15.2/18.1 MB 607.2 kB/s eta 0:00:05\n",
      "   ---------------------------------- ----- 15.5/18.1 MB 607.0 kB/s eta 0:00:05\n",
      "   ---------------------------------- ----- 15.5/18.1 MB 607.0 kB/s eta 0:00:05\n",
      "   ---------------------------------- ----- 15.7/18.1 MB 606.5 kB/s eta 0:00:04\n",
      "   ---------------------------------- ----- 15.7/18.1 MB 606.5 kB/s eta 0:00:04\n",
      "   ----------------------------------- ---- 16.0/18.1 MB 609.3 kB/s eta 0:00:04\n",
      "   ----------------------------------- ---- 16.0/18.1 MB 609.3 kB/s eta 0:00:04\n",
      "   ----------------------------------- ---- 16.3/18.1 MB 609.2 kB/s eta 0:00:03\n",
      "   ------------------------------------ --- 16.5/18.1 MB 611.9 kB/s eta 0:00:03\n",
      "   ------------------------------------ --- 16.5/18.1 MB 611.9 kB/s eta 0:00:03\n",
      "   ------------------------------------- -- 16.8/18.1 MB 611.7 kB/s eta 0:00:03\n",
      "   ------------------------------------- -- 16.8/18.1 MB 611.7 kB/s eta 0:00:03\n",
      "   ------------------------------------- -- 17.0/18.1 MB 614.3 kB/s eta 0:00:02\n",
      "   ------------------------------------- -- 17.0/18.1 MB 614.3 kB/s eta 0:00:02\n",
      "   -------------------------------------- - 17.3/18.1 MB 614.0 kB/s eta 0:00:02\n",
      "   -------------------------------------- - 17.3/18.1 MB 614.0 kB/s eta 0:00:02\n",
      "   -------------------------------------- - 17.6/18.1 MB 613.8 kB/s eta 0:00:01\n",
      "   ---------------------------------------  17.8/18.1 MB 616.3 kB/s eta 0:00:01\n",
      "   ---------------------------------------  17.8/18.1 MB 616.3 kB/s eta 0:00:01\n",
      "   ---------------------------------------  17.8/18.1 MB 616.3 kB/s eta 0:00:01\n",
      "   ---------------------------------------- 18.1/18.1 MB 614.7 kB/s eta 0:00:00\n",
      "Downloading gradio_client-1.3.0-py3-none-any.whl (318 kB)\n",
      "Downloading tomlkit-0.12.0-py3-none-any.whl (37 kB)\n",
      "Downloading aiofiles-23.2.1-py3-none-any.whl (15 kB)\n",
      "Downloading fastapi-0.115.0-py3-none-any.whl (94 kB)\n",
      "Downloading importlib_resources-6.4.5-py3-none-any.whl (36 kB)\n",
      "Downloading orjson-3.10.7-cp312-none-win_amd64.whl (137 kB)\n",
      "Downloading python_multipart-0.0.10-py3-none-any.whl (22 kB)\n",
      "Downloading ruff-0.6.7-py3-none-win_amd64.whl (9.3 MB)\n",
      "   ---------------------------------------- 0.0/9.3 MB ? eta -:--:--\n",
      "   ---------------------------------------- 0.0/9.3 MB ? eta -:--:--\n",
      "   - -------------------------------------- 0.3/9.3 MB ? eta -:--:--\n",
      "   - -------------------------------------- 0.3/9.3 MB ? eta -:--:--\n",
      "   -- ------------------------------------- 0.5/9.3 MB 578.7 kB/s eta 0:00:16\n",
      "   -- ------------------------------------- 0.5/9.3 MB 578.7 kB/s eta 0:00:16\n",
      "   --- ------------------------------------ 0.8/9.3 MB 684.4 kB/s eta 0:00:13\n",
      "   ---- ----------------------------------- 1.0/9.3 MB 740.5 kB/s eta 0:00:12\n",
      "   ---- ----------------------------------- 1.0/9.3 MB 740.5 kB/s eta 0:00:12\n",
      "   ----- ---------------------------------- 1.3/9.3 MB 691.7 kB/s eta 0:00:12\n",
      "   ----- ---------------------------------- 1.3/9.3 MB 691.7 kB/s eta 0:00:12\n",
      "   ------ --------------------------------- 1.6/9.3 MB 671.1 kB/s eta 0:00:12\n",
      "   ------ --------------------------------- 1.6/9.3 MB 671.1 kB/s eta 0:00:12\n",
      "   ------- -------------------------------- 1.8/9.3 MB 694.1 kB/s eta 0:00:11\n",
      "   ------- -------------------------------- 1.8/9.3 MB 694.1 kB/s eta 0:00:11\n",
      "   --------- ------------------------------ 2.1/9.3 MB 678.9 kB/s eta 0:00:11\n",
      "   ---------- ----------------------------- 2.4/9.3 MB 699.0 kB/s eta 0:00:10\n",
      "   ---------- ----------------------------- 2.4/9.3 MB 699.0 kB/s eta 0:00:10\n",
      "   ----------- ---------------------------- 2.6/9.3 MB 712.3 kB/s eta 0:00:10\n",
      "   ----------- ---------------------------- 2.6/9.3 MB 712.3 kB/s eta 0:00:10\n",
      "   ------------ --------------------------- 2.9/9.3 MB 696.1 kB/s eta 0:00:10\n",
      "   ------------ --------------------------- 2.9/9.3 MB 696.1 kB/s eta 0:00:10\n",
      "   ------------- -------------------------- 3.1/9.3 MB 686.1 kB/s eta 0:00:09\n",
      "   ------------- -------------------------- 3.1/9.3 MB 686.1 kB/s eta 0:00:09\n",
      "   -------------- ------------------------- 3.4/9.3 MB 677.8 kB/s eta 0:00:09\n",
      "   --------------- ------------------------ 3.7/9.3 MB 688.0 kB/s eta 0:00:09\n",
      "   --------------- ------------------------ 3.7/9.3 MB 688.0 kB/s eta 0:00:09\n",
      "   ---------------- ----------------------- 3.9/9.3 MB 696.9 kB/s eta 0:00:08\n",
      "   ---------------- ----------------------- 3.9/9.3 MB 696.9 kB/s eta 0:00:08\n",
      "   ------------------ --------------------- 4.2/9.3 MB 689.5 kB/s eta 0:00:08\n",
      "   ------------------ --------------------- 4.2/9.3 MB 689.5 kB/s eta 0:00:08\n",
      "   ------------------- -------------------- 4.5/9.3 MB 683.0 kB/s eta 0:00:08\n",
      "   ------------------- -------------------- 4.5/9.3 MB 683.0 kB/s eta 0:00:08\n",
      "   -------------------- ------------------- 4.7/9.3 MB 690.6 kB/s eta 0:00:07\n",
      "   --------------------- ------------------ 5.0/9.3 MB 697.4 kB/s eta 0:00:07\n",
      "   --------------------- ------------------ 5.0/9.3 MB 697.4 kB/s eta 0:00:07\n",
      "   ---------------------- ----------------- 5.2/9.3 MB 691.5 kB/s eta 0:00:06\n",
      "   ---------------------- ----------------- 5.2/9.3 MB 691.5 kB/s eta 0:00:06\n",
      "   ----------------------- ---------------- 5.5/9.3 MB 699.0 kB/s eta 0:00:06\n",
      "   ----------------------- ---------------- 5.5/9.3 MB 699.0 kB/s eta 0:00:06\n",
      "   ------------------------ --------------- 5.8/9.3 MB 692.2 kB/s eta 0:00:06\n",
      "   ------------------------ --------------- 5.8/9.3 MB 692.2 kB/s eta 0:00:06\n",
      "   -------------------------- ------------- 6.0/9.3 MB 687.3 kB/s eta 0:00:05\n",
      "   -------------------------- ------------- 6.0/9.3 MB 687.3 kB/s eta 0:00:05\n",
      "   --------------------------- ------------ 6.3/9.3 MB 680.6 kB/s eta 0:00:05\n",
      "   --------------------------- ------------ 6.3/9.3 MB 680.6 kB/s eta 0:00:05\n",
      "   ---------------------------- ----------- 6.6/9.3 MB 676.7 kB/s eta 0:00:05\n",
      "   ---------------------------- ----------- 6.6/9.3 MB 676.7 kB/s eta 0:00:05\n",
      "   ----------------------------- ---------- 6.8/9.3 MB 683.1 kB/s eta 0:00:04\n",
      "   ------------------------------ --------- 7.1/9.3 MB 686.9 kB/s eta 0:00:04\n",
      "   ------------------------------ --------- 7.1/9.3 MB 686.9 kB/s eta 0:00:04\n",
      "   ------------------------------- -------- 7.3/9.3 MB 683.3 kB/s eta 0:00:03\n",
      "   ------------------------------- -------- 7.3/9.3 MB 683.3 kB/s eta 0:00:03\n",
      "   ------------------------------- -------- 7.3/9.3 MB 683.3 kB/s eta 0:00:03\n",
      "   -------------------------------- ------- 7.6/9.3 MB 678.9 kB/s eta 0:00:03\n",
      "   -------------------------------- ------- 7.6/9.3 MB 678.9 kB/s eta 0:00:03\n",
      "   --------------------------------- ------ 7.9/9.3 MB 675.7 kB/s eta 0:00:03\n",
      "   ----------------------------------- ---- 8.1/9.3 MB 680.2 kB/s eta 0:00:02\n",
      "   ----------------------------------- ---- 8.1/9.3 MB 680.2 kB/s eta 0:00:02\n",
      "   ------------------------------------ --- 8.4/9.3 MB 677.2 kB/s eta 0:00:02\n",
      "   ------------------------------------ --- 8.4/9.3 MB 677.2 kB/s eta 0:00:02\n",
      "   ------------------------------------- -- 8.7/9.3 MB 672.8 kB/s eta 0:00:01\n",
      "   ------------------------------------- -- 8.7/9.3 MB 672.8 kB/s eta 0:00:01\n",
      "   ------------------------------------- -- 8.7/9.3 MB 672.8 kB/s eta 0:00:01\n",
      "   -------------------------------------- - 8.9/9.3 MB 663.0 kB/s eta 0:00:01\n",
      "   ---------------------------------------  9.2/9.3 MB 667.2 kB/s eta 0:00:01\n",
      "   ---------------------------------------- 9.3/9.3 MB 666.7 kB/s eta 0:00:00\n",
      "Downloading semantic_version-2.10.0-py2.py3-none-any.whl (15 kB)\n",
      "Downloading uvicorn-0.30.6-py3-none-any.whl (62 kB)\n",
      "Downloading ffmpy-0.4.0-py3-none-any.whl (5.8 kB)\n",
      "Downloading pydub-0.25.1-py2.py3-none-any.whl (32 kB)\n",
      "Downloading starlette-0.38.6-py3-none-any.whl (71 kB)\n",
      "Downloading websockets-12.0-cp312-cp312-win_amd64.whl (124 kB)\n",
      "Installing collected packages: pydub, websockets, tomlkit, semantic-version, ruff, python-multipart, orjson, importlib-resources, ffmpy, aiofiles, uvicorn, starlette, gradio-client, fastapi, gradio\n",
      "Successfully installed aiofiles-23.2.1 fastapi-0.115.0 ffmpy-0.4.0 gradio-4.44.0 gradio-client-1.3.0 importlib-resources-6.4.5 orjson-3.10.7 pydub-0.25.1 python-multipart-0.0.10 ruff-0.6.7 semantic-version-2.10.0 starlette-0.38.6 tomlkit-0.12.0 uvicorn-0.30.6 websockets-12.0\n",
      "Note: you may need to restart the kernel to use updated packages.\n"
     ]
    }
   ],
   "source": [
    "pip install gradio\n"
   ]
  },
  {
   "cell_type": "code",
   "execution_count": 3,
   "id": "55dd14e8-b576-4d93-a232-b71e0f45170b",
   "metadata": {},
   "outputs": [],
   "source": [
    "from fastai.vision.all import *\n",
    "import gradio as gr"
   ]
  },
  {
   "cell_type": "code",
   "execution_count": 5,
   "id": "0cf32302-5899-4c7f-af82-fca31e86cc71",
   "metadata": {},
   "outputs": [],
   "source": [
    "def is_cat(x): return x[0].isupper()"
   ]
  },
  {
   "cell_type": "code",
   "execution_count": 11,
   "id": "2c081705-4c14-4336-bb2a-8b451cef05da",
   "metadata": {},
   "outputs": [
    {
     "data": {
      "image/jpeg": "[encoded data removed]",
      "image/png": "[encoded data removed]",
      "text/plain": [
       "PILImage mode=RGB size=192x131"
      ]
     },
     "execution_count": 11,
     "metadata": {},
     "output_type": "execute_result"
    }
   ],
   "source": [
    "im = PILImage.create('pets/siamese.jpg')\n",
    "im.thumbnail((192,192))\n",
    "im"
   ]
  },
  {
   "cell_type": "code",
   "execution_count": 12,
   "id": "48cc4775-a635-43a3-9a67-e968dfa21fbf",
   "metadata": {},
   "outputs": [],
   "source": [
    "learn = load_learner('export.pkl')"
   ]
  },
  {
   "cell_type": "code",
   "execution_count": 13,
   "id": "46422a1c-47a2-4eaa-9083-a0d2ce64bfb4",
   "metadata": {},
   "outputs": [
    {
     "data": {
      "text/html": [
       "\n",
       "<style>\n",
       "    /* Turns off some styling */\n",
       "    progress {\n",
       "        /* gets rid of default border in Firefox and Opera. */\n",
       "        border: none;\n",
       "        /* Needs to be in here for Safari polyfill so background images work as expected. */\n",
       "        background-size: auto;\n",
       "    }\n",
       "    progress:not([value]), progress:not([value])::-webkit-progress-bar {\n",
       "        background: repeating-linear-gradient(45deg, #7e7e7e, #7e7e7e 10px, #5c5c5c 10px, #5c5c5c 20px);\n",
       "    }\n",
       "    .progress-bar-interrupted, .progress-bar-interrupted::-webkit-progress-bar {\n",
       "        background: #F44336;\n",
       "    }\n",
       "</style>\n"
      ],
      "text/plain": [
       "<IPython.core.display.HTML object>"
      ]
     },
     "metadata": {},
     "output_type": "display_data"
    },
    {
     "data": {
      "text/html": [],
      "text/plain": [
       "<IPython.core.display.HTML object>"
      ]
     },
     "metadata": {},
     "output_type": "display_data"
    },
    {
     "data": {
      "text/plain": [
       "('Siamese',\n",
       " tensor(10),\n",
       " tensor([2.0707e-06, 4.3419e-04, 1.2808e-03, 4.8873e-05, 6.1916e-06, 2.6099e-05,\n",
       "         1.5758e-07, 5.8516e-06, 2.4821e-03, 2.2713e-05, 9.9515e-01, 4.3243e-05,\n",
       "         1.3955e-06, 1.5123e-04, 9.7484e-07, 8.6972e-07, 4.7374e-07, 8.2742e-05,\n",
       "         4.2281e-06, 4.3503e-07, 1.2905e-05, 1.0472e-06, 5.7027e-06, 8.4989e-06,\n",
       "         3.1035e-05, 4.9851e-06, 4.3355e-06, 5.8232e-07, 4.8041e-05, 5.9790e-05,\n",
       "         1.0071e-05, 3.1155e-05, 1.0167e-06, 2.8097e-06, 4.9071e-06, 4.8775e-06,\n",
       "         1.8622e-05]))"
      ]
     },
     "execution_count": 13,
     "metadata": {},
     "output_type": "execute_result"
    }
   ],
   "source": [
    "learn.predict(im)"
   ]
  },
  {
   "cell_type": "code",
   "execution_count": 14,
   "id": "c0895606-ba37-40f4-907f-413d8f22849c",
   "metadata": {},
   "outputs": [],
   "source": [
    "categories = ('Abyssinian',\n",
    " 'Bengal',\n",
    " 'Birman',\n",
    " 'Bombay',\n",
    " 'British_Shorthair',\n",
    " 'Egyptian_Mau',\n",
    " 'Maine_Coon',\n",
    " 'Persian',\n",
    " 'Ragdoll',\n",
    " 'Russian_Blue',\n",
    " 'Siamese',\n",
    " 'Sphynx',\n",
    " 'american_bulldog',\n",
    " 'american_pit_bull_terrier',\n",
    " 'basset_hound',\n",
    " 'beagle',\n",
    " 'boxer',\n",
    " 'chihuahua',\n",
    " 'english_cocker_spaniel',\n",
    " 'english_setter',\n",
    " 'german_shorthaired',\n",
    " 'great_pyrenees',\n",
    " 'havanese',\n",
    " 'japanese_chin',\n",
    " 'keeshond',\n",
    " 'leonberger',\n",
    " 'miniature_pinscher',\n",
    " 'newfoundland',\n",
    " 'pomeranian',\n",
    " 'pug',\n",
    " 'saint_bernard',\n",
    " 'samoyed',\n",
    " 'scottish_terrier',\n",
    " 'shiba_inu',\n",
    " 'staffordshire_bull_terrier',\n",
    " 'wheaten_terrier',\n",
    " 'yorkshire_terrier')\n",
    "def classify_image(img):\n",
    "    pred,idx,probs = learn.predict(img)\n",
    "    return dict(zip(categories,map(float,probs)))"
   ]
  },
  {
   "cell_type": "code",
   "execution_count": 15,
   "id": "d5bc636c-fd90-4d19-99b9-65f63d469339",
   "metadata": {},
   "outputs": [
    {
     "data": {
      "text/html": [
       "\n",
       "<style>\n",
       "    /* Turns off some styling */\n",
       "    progress {\n",
       "        /* gets rid of default border in Firefox and Opera. */\n",
       "        border: none;\n",
       "        /* Needs to be in here for Safari polyfill so background images work as expected. */\n",
       "        background-size: auto;\n",
       "    }\n",
       "    progress:not([value]), progress:not([value])::-webkit-progress-bar {\n",
       "        background: repeating-linear-gradient(45deg, #7e7e7e, #7e7e7e 10px, #5c5c5c 10px, #5c5c5c 20px);\n",
       "    }\n",
       "    .progress-bar-interrupted, .progress-bar-interrupted::-webkit-progress-bar {\n",
       "        background: #F44336;\n",
       "    }\n",
       "</style>\n"
      ],
      "text/plain": [
       "<IPython.core.display.HTML object>"
      ]
     },
     "metadata": {},
     "output_type": "display_data"
    },
    {
     "data": {
      "text/html": [],
      "text/plain": [
       "<IPython.core.display.HTML object>"
      ]
     },
     "metadata": {},
     "output_type": "display_data"
    },
    {
     "data": {
      "text/plain": [
       "{'Abyssinian': 2.0706593204522505e-06,\n",
       " 'Bengal': 0.00043418948189355433,\n",
       " 'Birman': 0.0012807954335585237,\n",
       " 'Bombay': 4.887285103905015e-05,\n",
       " 'British_Shorthair': 6.191605734784389e-06,\n",
       " 'Egyptian_Mau': 2.609890179883223e-05,\n",
       " 'Maine_Coon': 1.5757936466798128e-07,\n",
       " 'Persian': 5.851604782947106e-06,\n",
       " 'Ragdoll': 0.002482054755091667,\n",
       " 'Russian_Blue': 2.2713296857546084e-05,\n",
       " 'Siamese': 0.995154857635498,\n",
       " 'Sphynx': 4.324303154135123e-05,\n",
       " 'american_bulldog': 1.3955481108496315e-06,\n",
       " 'american_pit_bull_terrier': 0.0001512270828243345,\n",
       " 'basset_hound': 9.748425782163395e-07,\n",
       " 'beagle': 8.697186331119156e-07,\n",
       " 'boxer': 4.7374160772051255e-07,\n",
       " 'chihuahua': 8.27421827125363e-05,\n",
       " 'english_cocker_spaniel': 4.228122634231113e-06,\n",
       " 'english_setter': 4.3502586777321994e-07,\n",
       " 'german_shorthaired': 1.2905362382298335e-05,\n",
       " 'great_pyrenees': 1.0472487019796972e-06,\n",
       " 'havanese': 5.702745511371177e-06,\n",
       " 'japanese_chin': 8.498856914229691e-06,\n",
       " 'keeshond': 3.1035269785206765e-05,\n",
       " 'leonberger': 4.985101895726984e-06,\n",
       " 'miniature_pinscher': 4.335508037911495e-06,\n",
       " 'newfoundland': 5.823204674015869e-07,\n",
       " 'pomeranian': 4.804137643077411e-05,\n",
       " 'pug': 5.979010893497616e-05,\n",
       " 'saint_bernard': 1.0071364158648066e-05,\n",
       " 'samoyed': 3.115537401754409e-05,\n",
       " 'scottish_terrier': 1.0167245818593074e-06,\n",
       " 'shiba_inu': 2.8096958430978702e-06,\n",
       " 'staffordshire_bull_terrier': 4.907131824438693e-06,\n",
       " 'wheaten_terrier': 4.877523224422475e-06,\n",
       " 'yorkshire_terrier': 1.8621614799485542e-05}"
      ]
     },
     "execution_count": 15,
     "metadata": {},
     "output_type": "execute_result"
    }
   ],
   "source": [
    "classify_image(im)"
   ]
  },
  {
   "cell_type": "code",
   "execution_count": 24,
   "id": "5badd5f6-68d4-4051-b6f7-dbcb1064d5ff",
   "metadata": {},
   "outputs": [
    {
     "name": "stdout",
     "output_type": "stream",
     "text": [
      "Running on local URL:  http://127.0.0.1:7862\n",
      "\n",
      "To create a public link, set `share=True` in `launch()`.\n"
     ]
    },
    {
     "data": {
      "text/plain": []
     },
     "execution_count": 24,
     "metadata": {},
     "output_type": "execute_result"
    }
   ],
   "source": [
    "#export for the model\n",
    "image = gr.Image()\n",
    "label = gr.Label()\n",
    "examples = ['pets/dog.jpg', 'pets/cat.jpg', 'pets/cat1.jpg', 'pets/dog2.jpg', 'pets/siamese.jpg']\n",
    "\n",
    "intf = gr.Interface(fn = classify_image, inputs = image, outputs = label, examples = examples)\n",
    "intf.launch(inline = False)"
   ]
  },
  {
   "cell_type": "code",
   "execution_count": null,
   "id": "abf7c728-524a-4348-b8c7-825bec9ef838",
   "metadata": {},
   "outputs": [],
   "source": []
  },
  {
   "cell_type": "code",
   "execution_count": null,
   "id": "4f3bcabf-679e-4068-a94a-59e486b092bc",
   "metadata": {},
   "outputs": [],
   "source": []
  },
  {
   "cell_type": "code",
   "execution_count": null,
   "id": "0f8839a9-5f13-460c-8e50-8b5fd8576505",
   "metadata": {},
   "outputs": [],
   "source": []
  },
  {
   "cell_type": "code",
   "execution_count": null,
   "id": "a51d970f-4c97-4ecf-aa59-6c14d3105326",
   "metadata": {},
   "outputs": [],
   "source": []
  },
  {
   "cell_type": "code",
   "execution_count": null,
   "id": "e25f73a3-b5d3-4d70-b869-9f69323f76ea",
   "metadata": {},
   "outputs": [],
   "source": []
  },
  {
   "cell_type": "code",
   "execution_count": null,
   "id": "624bb919-2ace-4c31-b987-0e714293364a",
   "metadata": {},
   "outputs": [],
   "source": []
  },
  {
   "cell_type": "code",
   "execution_count": null,
   "id": "85222c2d-d996-494d-ac72-8216349dc107",
   "metadata": {},
   "outputs": [],
   "source": []
  }
 ],
 "metadata": {
  "kernelspec": {
   "display_name": "Python 3 (ipykernel)",
   "language": "python",
   "name": "python3"
  },
  "language_info": {
   "codemirror_mode": {
    "name": "ipython",
    "version": 3
   },
   "file_extension": ".py",
   "mimetype": "text/x-python",
   "name": "python",
   "nbconvert_exporter": "python",
   "pygments_lexer": "ipython3",
   "version": "3.12.5"
  }
 },
 "nbformat": 4,
 "nbformat_minor": 5
}
